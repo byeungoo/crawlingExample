{
 "cells": [
  {
   "cell_type": "code",
   "execution_count": 19,
   "metadata": {},
   "outputs": [
    {
     "name": "stdout",
     "output_type": "stream",
     "text": [
      "[<div class=\"ly_info_dsc\" id=\"hiddenCafeApplyLayer\" onmouseout=\"hideCafeApplyLayer();\" onmouseover=\"showCafeApplyLayer();\" style=\"font-weight:normal;top:14px;left:5px;display:none;\">\n",
      "<div class=\"cont cont_v1\" style=\"width:60px\">\n",
      "<p><a href=\"/ManageJoinApplication.nhn?search.clubid=10050146\" onblur=\"hideCafeApplyLayer();\">°¡ÀÔ´ë±â <span>0</span></a></p>\n",
      "<span class=\"tail\" style=\"left:31px\"></span>\n",
      "</div>\n",
      "</div>, <div class=\"ly_info_dsc\" id=\"hiddenOpenMemberInfoLayer\" style=\"top: 14px; left: 0px; display: none;\">\n",
      "<div class=\"cont cont_v2\">\n",
      "<p>¸â¹ö¸ñ·Ï ºñ°ø°³ Ä«Æä</p>\n",
      "<span class=\"tail\" style=\"left:6px\"></span>\n",
      "</div>\n",
      "<a class=\"clse\" href=\"#\" onclick=\"$('hiddenOpenMemberInfoLayer').style.display = 'none';\" role=\"button\">´Ý±â</a>\n",
      "</div>]\n",
      "\n",
      "\n",
      "°¡ÀÔ´ë±â 0\n",
      "\n",
      "\n",
      "\n",
      "\n",
      "\n",
      "¸â¹ö¸ñ·Ï ºñ°ø°³ Ä«Æä\n",
      "\n",
      "\n",
      "´Ý±â\n",
      "\n"
     ]
    }
   ],
   "source": [
    "from bs4 import BeautifulSoup\n",
    "import requests\n",
    "res = requests.get('https://cafe.naver.com/joonggonara?iframe_url=/ArticleSearchList.nhn%3Fsearch.clubid=10050146%26search.searchdate=all%26search.searchBy=%26search.query=%BE%C6%C0%CC%C6%D0%B5%E5%26search.defaultValue=1%26search.sortBy=date%26userDisplay=15%26search.media=0%26search.option=0')\n",
    "soup = BeautifulSoup(res.content,'html.parser')\n",
    "items = soup.select('.ly_info_dsc')\n",
    "print(items)\n",
    "for item in items:\n",
    "    print(item.get_text())"
   ]
  },
  {
   "cell_type": "code",
   "execution_count": 52,
   "metadata": {},
   "outputs": [
    {
     "name": "stdout",
     "output_type": "stream",
     "text": [
      "[<ul class=\"ranking_list\" id=\"popular_srch_lst\">\n",
      "<li class=\"on\">\n",
      "<em class=\"num1\">1위</em>\n",
      "<span class=\"txt\"><a class=\"_popular_srch_lst_li\" href=\"#\" kwdnm=\"%ED%97%A4%EB%93%9C%EC%85%8B\" title=\"헤드셋\">헤드셋</a><!--N=a:rpk.allkw,i:헤드셋,r:1--></span>\n",
      "<span class=\"vary\">\n",
      "<span class=\"keep\">유지</span>\n",
      "</span>\n",
      "</li>\n",
      "<li>\n",
      "<em class=\"num2\">2위</em>\n",
      "<span class=\"txt\"><a class=\"_popular_srch_lst_li\" href=\"#\" kwdnm=\"%EB%A9%B4%EB%8F%84%EA%B8%B0\" title=\"면도기\">면도기</a><!--N=a:rpk.allkw,i:면도기,r:2--></span>\n",
      "<span class=\"vary\">\n",
      "<span class=\"keep\">유지</span>\n",
      "</span>\n",
      "</li>\n",
      "<li>\n",
      "<em class=\"num3\">3위</em>\n",
      "<span class=\"txt\"><a class=\"_popular_srch_lst_li\" href=\"#\" kwdnm=\"%EC%97%90%EC%96%B4%ED%8C%9F+%ED%94%84%EB%A1%9C\" title=\"에어팟 프로\">에어팟 프로</a><!--N=a:rpk.allkw,i:에어팟 프로,r:3--></span>\n",
      "<span class=\"vary\">\n",
      "<span class=\"up\">상승</span>5</span>\n",
      "</li>\n",
      "<li>\n",
      "<em class=\"num4\">4위</em>\n",
      "<span class=\"txt\"><a class=\"_popular_srch_lst_li\" href=\"#\" kwdnm=\"%EB%B9%BC%EB%B9%BC%EB%A1%9C\" title=\"빼빼로\">빼빼로</a><!--N=a:rpk.allkw,i:빼빼로,r:4--></span>\n",
      "<span class=\"vary\">\n",
      "<span class=\"up\">상승</span>1</span>\n",
      "</li>\n",
      "<li>\n",
      "<em class=\"num5\">5위</em>\n",
      "<span class=\"txt\"><a class=\"_popular_srch_lst_li\" href=\"#\" kwdnm=\"%EB%A1%B1%ED%8C%A8%EB%94%A9\" title=\"롱패딩\">롱패딩</a><!--N=a:rpk.allkw,i:롱패딩,r:5--></span>\n",
      "<span class=\"vary\">\n",
      "<span class=\"up\">상승</span>1</span>\n",
      "</li>\n",
      "<li>\n",
      "<em class=\"num6\">6위</em>\n",
      "<span class=\"txt\"><a class=\"_popular_srch_lst_li\" href=\"#\" kwdnm=\"%EC%88%8F%ED%8C%A8%EB%94%A9\" title=\"숏패딩\">숏패딩</a><!--N=a:rpk.allkw,i:숏패딩,r:6--></span>\n",
      "<span class=\"vary\">\n",
      "<span class=\"down\">하락</span>2</span>\n",
      "</li>\n",
      "<li>\n",
      "<em class=\"num7\">7위</em>\n",
      "<span class=\"txt\"><a class=\"_popular_srch_lst_li\" href=\"#\" kwdnm=\"%EA%B0%80%EC%8A%B5%EA%B8%B0\" title=\"가습기\">가습기</a><!--N=a:rpk.allkw,i:가습기,r:7--></span>\n",
      "<span class=\"vary\">\n",
      "<span class=\"up\">상승</span>5</span>\n",
      "</li>\n",
      "<li>\n",
      "<em class=\"num8\">8위</em>\n",
      "<span class=\"txt\"><a class=\"_popular_srch_lst_li\" href=\"#\" kwdnm=\"%EB%85%B8%EC%8A%A4%ED%8E%98%EC%9D%B4%EC%8A%A4+%ED%9B%84%EB%A6%AC%EC%8A%A4\" title=\"노스페이스 후리스\">노스페이스 후리스</a><!--N=a:rpk.allkw,i:노스페이스 후리스,r:8--></span>\n",
      "<span class=\"vary\">\n",
      "<span class=\"down\">하락</span>5</span>\n",
      "</li>\n",
      "<li>\n",
      "<em class=\"num9\">9위</em>\n",
      "<span class=\"txt\"><a class=\"_popular_srch_lst_li\" href=\"#\" kwdnm=\"KF94+%EB%A7%88%EC%8A%A4%ED%81%AC\" title=\"KF94 마스크\">KF94 마스크</a><!--N=a:rpk.allkw,i:KF94 마스크,r:9--></span>\n",
      "<span class=\"vary\">\n",
      "<span class=\"up\">상승</span>1</span>\n",
      "</li>\n",
      "<li>\n",
      "<em class=\"num10\">10위</em>\n",
      "<span class=\"txt\"><a class=\"_popular_srch_lst_li\" href=\"#\" kwdnm=\"%EC%A0%9C%EC%A3%BC+%EB%A0%8C%ED%8A%B8%EC%B9%B4\" title=\"제주 렌트카\">제주 렌트카</a><!--N=a:rpk.allkw,i:제주 렌트카,r:10--></span>\n",
      "<span class=\"vary\">\n",
      "<span class=\"up\">상승</span>4</span>\n",
      "</li>\n",
      "</ul>]\n",
      "\n",
      "\n",
      "1위\n",
      "헤드셋\n",
      "\n",
      "유지\n",
      "\n",
      "\n",
      "\n",
      "2위\n",
      "면도기\n",
      "\n",
      "유지\n",
      "\n",
      "\n",
      "\n",
      "3위\n",
      "에어팟 프로\n",
      "\n",
      "상승5\n",
      "\n",
      "\n",
      "4위\n",
      "빼빼로\n",
      "\n",
      "상승1\n",
      "\n",
      "\n",
      "5위\n",
      "롱패딩\n",
      "\n",
      "상승1\n",
      "\n",
      "\n",
      "6위\n",
      "숏패딩\n",
      "\n",
      "하락2\n",
      "\n",
      "\n",
      "7위\n",
      "가습기\n",
      "\n",
      "상승5\n",
      "\n",
      "\n",
      "8위\n",
      "노스페이스 후리스\n",
      "\n",
      "하락5\n",
      "\n",
      "\n",
      "9위\n",
      "KF94 마스크\n",
      "\n",
      "상승1\n",
      "\n",
      "\n",
      "10위\n",
      "제주 렌트카\n",
      "\n",
      "상승4\n",
      "\n",
      "\n"
     ]
    }
   ],
   "source": [
    "from bs4 import BeautifulSoup\n",
    "import requests\n",
    "res = requests.get('https://search.shopping.naver.com/best100v2/main.nhn')\n",
    "soup = BeautifulSoup(res.content,'html.parser')\n",
    "#print(soup)\n",
    "items = soup.select('ul.ranking_list.txt.')\n",
    "print(items)\n",
    "for item in items:\n",
    "    print(item.get_text())"
   ]
  },
  {
   "cell_type": "code",
   "execution_count": null,
   "metadata": {},
   "outputs": [],
   "source": []
  },
  {
   "cell_type": "code",
   "execution_count": null,
   "metadata": {},
   "outputs": [],
   "source": []
  },
  {
   "cell_type": "code",
   "execution_count": null,
   "metadata": {},
   "outputs": [],
   "source": []
  },
  {
   "cell_type": "code",
   "execution_count": null,
   "metadata": {},
   "outputs": [],
   "source": []
  },
  {
   "cell_type": "code",
   "execution_count": null,
   "metadata": {},
   "outputs": [],
   "source": []
  },
  {
   "cell_type": "code",
   "execution_count": null,
   "metadata": {},
   "outputs": [],
   "source": []
  },
  {
   "cell_type": "code",
   "execution_count": null,
   "metadata": {},
   "outputs": [],
   "source": []
  },
  {
   "cell_type": "code",
   "execution_count": null,
   "metadata": {},
   "outputs": [],
   "source": []
  },
  {
   "cell_type": "code",
   "execution_count": null,
   "metadata": {},
   "outputs": [],
   "source": []
  },
  {
   "cell_type": "code",
   "execution_count": null,
   "metadata": {},
   "outputs": [],
   "source": []
  },
  {
   "cell_type": "code",
   "execution_count": null,
   "metadata": {},
   "outputs": [],
   "source": []
  },
  {
   "cell_type": "code",
   "execution_count": null,
   "metadata": {},
   "outputs": [],
   "source": []
  },
  {
   "cell_type": "code",
   "execution_count": null,
   "metadata": {},
   "outputs": [],
   "source": []
  },
  {
   "cell_type": "code",
   "execution_count": null,
   "metadata": {},
   "outputs": [],
   "source": []
  },
  {
   "cell_type": "code",
   "execution_count": null,
   "metadata": {},
   "outputs": [],
   "source": []
  },
  {
   "cell_type": "code",
   "execution_count": null,
   "metadata": {},
   "outputs": [],
   "source": [
    "+"
   ]
  },
  {
   "cell_type": "code",
   "execution_count": null,
   "metadata": {},
   "outputs": [],
   "source": []
  },
  {
   "cell_type": "code",
   "execution_count": null,
   "metadata": {},
   "outputs": [],
   "source": []
  },
  {
   "cell_type": "code",
   "execution_count": null,
   "metadata": {},
   "outputs": [],
   "source": []
  },
  {
   "cell_type": "code",
   "execution_count": null,
   "metadata": {},
   "outputs": [],
   "source": []
  },
  {
   "cell_type": "code",
   "execution_count": null,
   "metadata": {},
   "outputs": [],
   "source": []
  },
  {
   "cell_type": "code",
   "execution_count": null,
   "metadata": {},
   "outputs": [],
   "source": []
  },
  {
   "cell_type": "code",
   "execution_count": null,
   "metadata": {},
   "outputs": [],
   "source": []
  },
  {
   "cell_type": "code",
   "execution_count": null,
   "metadata": {},
   "outputs": [],
   "source": []
  },
  {
   "cell_type": "code",
   "execution_count": null,
   "metadata": {},
   "outputs": [],
   "source": []
  },
  {
   "cell_type": "code",
   "execution_count": null,
   "metadata": {},
   "outputs": [],
   "source": []
  },
  {
   "cell_type": "code",
   "execution_count": null,
   "metadata": {},
   "outputs": [],
   "source": []
  },
  {
   "cell_type": "code",
   "execution_count": null,
   "metadata": {},
   "outputs": [],
   "source": []
  },
  {
   "cell_type": "code",
   "execution_count": null,
   "metadata": {},
   "outputs": [],
   "source": []
  },
  {
   "cell_type": "code",
   "execution_count": null,
   "metadata": {},
   "outputs": [],
   "source": []
  },
  {
   "cell_type": "code",
   "execution_count": null,
   "metadata": {},
   "outputs": [],
   "source": []
  },
  {
   "cell_type": "code",
   "execution_count": null,
   "metadata": {},
   "outputs": [],
   "source": []
  },
  {
   "cell_type": "code",
   "execution_count": null,
   "metadata": {},
   "outputs": [],
   "source": []
  },
  {
   "cell_type": "code",
   "execution_count": null,
   "metadata": {},
   "outputs": [],
   "source": []
  },
  {
   "cell_type": "code",
   "execution_count": null,
   "metadata": {},
   "outputs": [],
   "source": []
  },
  {
   "cell_type": "code",
   "execution_count": null,
   "metadata": {},
   "outputs": [],
   "source": []
  },
  {
   "cell_type": "code",
   "execution_count": null,
   "metadata": {},
   "outputs": [],
   "source": []
  },
  {
   "cell_type": "code",
   "execution_count": null,
   "metadata": {},
   "outputs": [],
   "source": []
  },
  {
   "cell_type": "code",
   "execution_count": null,
   "metadata": {},
   "outputs": [],
   "source": []
  },
  {
   "cell_type": "code",
   "execution_count": null,
   "metadata": {},
   "outputs": [],
   "source": []
  },
  {
   "cell_type": "code",
   "execution_count": null,
   "metadata": {},
   "outputs": [],
   "source": []
  },
  {
   "cell_type": "code",
   "execution_count": null,
   "metadata": {},
   "outputs": [],
   "source": []
  },
  {
   "cell_type": "code",
   "execution_count": null,
   "metadata": {},
   "outputs": [],
   "source": []
  },
  {
   "cell_type": "code",
   "execution_count": null,
   "metadata": {},
   "outputs": [],
   "source": []
  },
  {
   "cell_type": "code",
   "execution_count": null,
   "metadata": {},
   "outputs": [],
   "source": []
  },
  {
   "cell_type": "code",
   "execution_count": null,
   "metadata": {},
   "outputs": [],
   "source": []
  },
  {
   "cell_type": "code",
   "execution_count": null,
   "metadata": {},
   "outputs": [],
   "source": []
  },
  {
   "cell_type": "code",
   "execution_count": null,
   "metadata": {},
   "outputs": [],
   "source": []
  },
  {
   "cell_type": "code",
   "execution_count": null,
   "metadata": {},
   "outputs": [],
   "source": []
  },
  {
   "cell_type": "code",
   "execution_count": null,
   "metadata": {},
   "outputs": [],
   "source": []
  },
  {
   "cell_type": "code",
   "execution_count": null,
   "metadata": {},
   "outputs": [],
   "source": []
  }
 ],
 "metadata": {
  "kernelspec": {
   "display_name": "Python 3",
   "language": "python",
   "name": "python3"
  },
  "language_info": {
   "codemirror_mode": {
    "name": "ipython",
    "version": 3
   },
   "file_extension": ".py",
   "mimetype": "text/x-python",
   "name": "python",
   "nbconvert_exporter": "python",
   "pygments_lexer": "ipython3",
   "version": "3.8.3"
  }
 },
 "nbformat": 4,
 "nbformat_minor": 4
}
