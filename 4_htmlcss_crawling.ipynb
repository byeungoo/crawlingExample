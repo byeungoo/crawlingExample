{
 "cells": [
  {
   "cell_type": "code",
   "execution_count": 4,
   "metadata": {},
   "outputs": [
    {
     "name": "stdout",
     "output_type": "stream",
     "text": [
      "잔금대출에도 DTI 규제 적용 검토\n"
     ]
    }
   ],
   "source": [
    "import requests\n",
    "from bs4 import BeautifulSoup\n",
    "# 1) reqeusts 라이브러리를 활용한 HTML 페이지 요청\n",
    "# 1-1) res 객체에 HTML 데이터가 저장되고, res.content로 데이터를 추출할 수 있음\n",
    "res = requests.get('http://v.media.daum.net/v/20170615203441266')\n",
    "# print(res.content)\n",
    "\n",
    "# 2) HTML 페이지 파싱 BeautifulSoup(HTML데이터, 파싱방법)\n",
    "# 2-1) BeautifulSoup 파싱방법\n",
    "soup = BeautifulSoup(res.content,'html.parser')\n",
    "\n",
    "# 3) 필요한 데이터 검\n",
    "title = soup.find('h3', 'tit_view')  # title = soup.find('h3', class_ = 'tit_view')  _class 생략 가능\n",
    "\n",
    "# 4) 필요한 데이터 추출\n",
    "print(title.get_text())"
   ]
  },
  {
   "cell_type": "code",
   "execution_count": 6,
   "metadata": {},
   "outputs": [
    {
     "name": "stdout",
     "output_type": "stream",
     "text": [
      "잔금대출에도 DTI 규제 적용 검토\n",
      "김동욱\n",
      "김동욱\n",
      "입력 2017.06.15. 20:34\n",
      "수정 2017.06.15. 21:31\n",
      "입력 2017.06.15. 20:34\n",
      "\n",
      "금융당국이 급증하는 가계부채 증가세를 막기 위해 아파트 잔금대출에도 소득을 따져 대출한도를 정하는 총부채상환비율(DTI)을 적용하는 방안을 유력하게 검토하고 있다.\n",
      "지금은 집값을 기준으로 대출한도를 매기는 주택담보인정비율(LTV) 규제만 적용돼 소득이 없어도 집값의 70%를 빌려 잔금을 치르는 게 가능하다.\n",
      "앞으로 잔금대출에 DTI가 적용되면 소득이 없는 사람은 집값의 70% 대출 받는 게 어려워진다. 기사 제목과 주요 문장을 기반으로 자동요약한 결과입니다. 전체 맥락을 이해하기 위해서는 본문 보기를 권장합니다.\n",
      "\n"
     ]
    }
   ],
   "source": [
    "data = soup.find('h3', 'tit_view')\n",
    "print(data.get_text())\n",
    "\n",
    "data = soup.find('span', 'txt_info')\n",
    "print(data.get_text())\n",
    "\n",
    "data = soup.find_all('span', 'txt_info')\n",
    "for item in data:\n",
    "    print(item.get_text())\n",
    "    \n",
    "data = soup.find_all('span', 'txt_info')\n",
    "print(data[1].get_text())\n",
    "\n",
    "\n",
    "data = soup.find('div', 'layer_util layer_summary') #상위 태그를 크롤링. class 2개 이상이여도 이렇게 사용하면 된다.\n",
    "print(data.get_text())"
   ]
  },
  {
   "cell_type": "code",
   "execution_count": null,
   "metadata": {},
   "outputs": [],
   "source": []
  }
 ],
 "metadata": {
  "kernelspec": {
   "display_name": "Python 3",
   "language": "python",
   "name": "python3"
  },
  "language_info": {
   "codemirror_mode": {
    "name": "ipython",
    "version": 3
   },
   "file_extension": ".py",
   "mimetype": "text/x-python",
   "name": "python",
   "nbconvert_exporter": "python",
   "pygments_lexer": "ipython3",
   "version": "3.8.3"
  }
 },
 "nbformat": 4,
 "nbformat_minor": 4
}
